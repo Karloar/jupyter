{
 "cells": [
  {
   "cell_type": "code",
   "execution_count": 81,
   "metadata": {},
   "outputs": [],
   "source": [
    "import numpy as np\n",
    "import matplotlib.pyplot as plt\n",
    "import scipy.spatial.distance as distance\n",
    "import random"
   ]
  },
  {
   "cell_type": "code",
   "execution_count": 16,
   "metadata": {},
   "outputs": [],
   "source": [
    "file_name = 'R15.txt'\n",
    "k = 5\n",
    "data = np.loadtxt(file_name)\n",
    "label = data[:, 2].reshape(data.shape[0], 1)\n",
    "data = data[:, 0:2]"
   ]
  },
  {
   "cell_type": "code",
   "execution_count": 39,
   "metadata": {},
   "outputs": [],
   "source": [
    "def plot_data(data, label):\n",
    "    max_lb = np.int32(label.max())\n",
    "    fig = plt.figure()\n",
    "    ax = fig.add_subplot(111)\n",
    "    for i in range(max_lb+1):\n",
    "        idx = np.argwhere(label == i)[:, 0]\n",
    "        ax.scatter(data[idx, 0], data[idx, 1], marker='o', cmap=plt.cm.jet(i))\n",
    "    plt.show()"
   ]
  },
  {
   "cell_type": "code",
   "execution_count": 109,
   "metadata": {},
   "outputs": [],
   "source": [
    "def knn(x, data, label, k):\n",
    "    temp = np.copy(data)\n",
    "    temp = np.vstack([x, data])\n",
    "    label = label.copy()\n",
    "    label = np.vstack([-1, label])\n",
    "    distance_matrix = distance.squareform(distance.pdist(temp))\n",
    "    dist = distance_matrix[0, :].reshape(1, distance_matrix.shape[1])\n",
    "    idx = np.argsort(dist)[0, 1:k+1]\n",
    "#     print(label.shape)\n",
    "#     print(idx)\n",
    "    temp_label = label[idx][:, 0]\n",
    "    lb_dict = {}\n",
    "    for i in temp_label:\n",
    "        if lb_dict.get(i):\n",
    "            lb_dict[i] += 1\n",
    "        else:\n",
    "            lb_dict[i] = 1\n",
    "    back_items = [[v[1], v[0]] for v in lb_dict.items()]\n",
    "    back_items.sort(reverse=True)\n",
    "    return back_items[0][1]"
   ]
  },
  {
   "cell_type": "code",
   "execution_count": 116,
   "metadata": {},
   "outputs": [],
   "source": [
    "def error_rate(label, true_label):\n",
    "    x = 0\n",
    "    for i in range(len(true_label)):\n",
    "        if label[i] != true_label[i]:\n",
    "            x += 1\n",
    "    return x / len(true_label)"
   ]
  },
  {
   "cell_type": "code",
   "execution_count": 103,
   "metadata": {},
   "outputs": [
    {
     "data": {
      "image/png": "[encoded data removed]",
      "text/plain": [
       "<Figure size 432x288 with 1 Axes>"
      ]
     },
     "metadata": {},
     "output_type": "display_data"
    }
   ],
   "source": [
    "plot_data(data, label)"
   ]
  },
  {
   "cell_type": "code",
   "execution_count": 125,
   "metadata": {},
   "outputs": [],
   "source": [
    "idx = list(range(data.shape[0]))\n",
    "random.shuffle(idx)"
   ]
  },
  {
   "cell_type": "code",
   "execution_count": 126,
   "metadata": {},
   "outputs": [],
   "source": [
    "train_num = int(data.shape[0] * 0.7)\n",
    "train_idx = idx[:train_num]\n",
    "test_idx = idx[train_num+1:]"
   ]
  },
  {
   "cell_type": "code",
   "execution_count": 127,
   "metadata": {},
   "outputs": [],
   "source": [
    "train_data = data[train_idx, :]\n",
    "test_data = data[test_idx, :]\n",
    "train_label = label[train_idx].reshape(len(train_idx), 1)\n",
    "test_label = label[test_idx]"
   ]
  },
  {
   "cell_type": "code",
   "execution_count": 128,
   "metadata": {},
   "outputs": [
    {
     "name": "stdout",
     "output_type": "stream",
     "text": [
      "0.0223463687150838\n"
     ]
    }
   ],
   "source": [
    "tl = []\n",
    "for y in test_data:\n",
    "    tl.append(knn(y, train_data, train_label, k))\n",
    "    \n",
    "print(error_rate(tl, test_label))"
   ]
  },
  {
   "cell_type": "code",
   "execution_count": null,
   "metadata": {},
   "outputs": [],
   "source": []
  }
 ],
 "metadata": {
  "kernelspec": {
   "display_name": "Python 3",
   "language": "python",
   "name": "python3"
  },
  "language_info": {
   "codemirror_mode": {
    "name": "ipython",
    "version": 3
   },
   "file_extension": ".py",
   "mimetype": "text/x-python",
   "name": "python",
   "nbconvert_exporter": "python",
   "pygments_lexer": "ipython3",
   "version": "3.6.5"
  }
 },
 "nbformat": 4,
 "nbformat_minor": 2
}
