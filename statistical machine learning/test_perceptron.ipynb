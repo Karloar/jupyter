{
 "cells": [
  {
   "cell_type": "code",
   "execution_count": 4,
   "metadata": {},
   "outputs": [],
   "source": [
    "import numpy as np\n",
    "import matplotlib.pyplot as plt"
   ]
  },
  {
   "cell_type": "code",
   "execution_count": 2,
   "metadata": {},
   "outputs": [],
   "source": [
    "def sign(x):\n",
    "    if x >= 0:\n",
    "        return 1\n",
    "    return -1"
   ]
  },
  {
   "cell_type": "code",
   "execution_count": 32,
   "metadata": {},
   "outputs": [],
   "source": [
    "data = np.array([[3, 3, 1], [4, 3, 1], [1, 1, -1]])"
   ]
  },
  {
   "cell_type": "code",
   "execution_count": 100,
   "metadata": {},
   "outputs": [
    {
     "data": {
      "image/png": "[encoded data removed]",
      "text/plain": [
       "<Figure size 432x288 with 1 Axes>"
      ]
     },
     "metadata": {},
     "output_type": "display_data"
    }
   ],
   "source": [
    "for p in data:\n",
    "    if p[2] == 1:\n",
    "        plt.scatter(p[0], p[1], c='red', marker='o')\n",
    "    else:\n",
    "        plt.scatter(p[0], p[1], c='blue', marker='o')"
   ]
  },
  {
   "cell_type": "code",
   "execution_count": 68,
   "metadata": {},
   "outputs": [],
   "source": [
    "train_x = data[:, 0:2]\n",
    "train_y = data[:, 2]"
   ]
  },
  {
   "cell_type": "code",
   "execution_count": 116,
   "metadata": {},
   "outputs": [],
   "source": [
    "def perceptron(train_x, train_y, alpha=0.01):\n",
    "    m, n = train_x.shape\n",
    "    w = np.random.rand(n, 1)\n",
    "    b = 0\n",
    "    err_set = set(range(m))\n",
    "    while(len(err_set)):\n",
    "        for i in range(m):\n",
    "            xi = train_x[i].reshape(1, n)\n",
    "            temp = np.dot(xi, w) + b\n",
    "            temp *= train_y[i]\n",
    "            if temp <= 0:\n",
    "                w += alpha * train_y[i] * xi.T\n",
    "                b += alpha * train_y[i]\n",
    "                err_set.add(i)\n",
    "            else:\n",
    "                if i in err_set:\n",
    "                    err_set.remove(i)\n",
    "    return w, b"
   ]
  },
  {
   "cell_type": "code",
   "execution_count": 125,
   "metadata": {},
   "outputs": [],
   "source": [
    "w, b = perceptron(train_x, train_y)"
   ]
  },
  {
   "cell_type": "code",
   "execution_count": 126,
   "metadata": {},
   "outputs": [],
   "source": [
    "x = np.linspace(0, 5)\n",
    "y = -b - w[0] * x\n",
    "y /= w[1]"
   ]
  },
  {
   "cell_type": "code",
   "execution_count": 127,
   "metadata": {},
   "outputs": [
    {
     "data": {
      "image/png": "[encoded data removed]",
      "text/plain": [
       "<Figure size 432x288 with 1 Axes>"
      ]
     },
     "metadata": {},
     "output_type": "display_data"
    }
   ],
   "source": [
    "for p in data:\n",
    "    if p[2] == 1:\n",
    "        plt.scatter(p[0], p[1], c='red', marker='o')\n",
    "    else:\n",
    "        plt.scatter(p[0], p[1], c='blue', marker='o')\n",
    "plt.plot(x, y, c='green')\n",
    "plt.show()"
   ]
  },
  {
   "cell_type": "code",
   "execution_count": null,
   "metadata": {},
   "outputs": [],
   "source": []
  }
 ],
 "metadata": {
  "kernelspec": {
   "display_name": "Python 3",
   "language": "python",
   "name": "python3"
  },
  "language_info": {
   "codemirror_mode": {
    "name": "ipython",
    "version": 3
   },
   "file_extension": ".py",
   "mimetype": "text/x-python",
   "name": "python",
   "nbconvert_exporter": "python",
   "pygments_lexer": "ipython3",
   "version": "3.6.5"
  }
 },
 "nbformat": 4,
 "nbformat_minor": 2
}
