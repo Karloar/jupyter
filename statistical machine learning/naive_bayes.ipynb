{
 "cells": [
  {
   "cell_type": "code",
   "execution_count": 3,
   "metadata": {},
   "outputs": [],
   "source": [
    "import numpy as np\n",
    "import matplotlib.pyplot as plt\n",
    "import random"
   ]
  },
  {
   "cell_type": "code",
   "execution_count": 2,
   "metadata": {},
   "outputs": [],
   "source": [
    "fname = 'R15.txt'\n",
    "data = np.loadtxt(fname)\n",
    "label = data[:, 2:3]\n",
    "data = data[:, :2]"
   ]
  },
  {
   "cell_type": "code",
   "execution_count": 29,
   "metadata": {},
   "outputs": [
    {
     "name": "stdout",
     "output_type": "stream",
     "text": [
      "(420, 2)\n",
      "(420, 1)\n",
      "------------\n",
      "(180, 2)\n",
      "(180, 1)\n"
     ]
    }
   ],
   "source": [
    "idx = list(range(data.shape[0]))\n",
    "random.shuffle(idx)\n",
    "train_percent = 0.7\n",
    "train_idx = idx[:int(train_percent * len(idx))]\n",
    "test_idx = idx[int(train_percent * len(idx)):]\n",
    "train_data = data[train_idx, :]\n",
    "train_label = label[train_idx, :]\n",
    "test_data = data[test_idx, :]\n",
    "test_label = label[test_idx, :]\n",
    "\n",
    "print(train_data.shape)\n",
    "print(train_label.shape)\n",
    "print('------------')\n",
    "print(test_data.shape)\n",
    "print(test_label.shape)"
   ]
  },
  {
   "cell_type": "code",
   "execution_count": 40,
   "metadata": {},
   "outputs": [],
   "source": [
    "def error(label, true_label):\n",
    "    s = 0\n",
    "    for x, y in zip(label, true_label):\n",
    "        if x[0] != y[0]:\n",
    "            s += 1\n",
    "    return s / true_label.shape[0]"
   ]
  },
  {
   "cell_type": "code",
   "execution_count": 31,
   "metadata": {},
   "outputs": [],
   "source": [
    "def naive_bayes(train_data, train_label):\n",
    "    total_c = np.int32(np.max(train_label))\n",
    "    n = train_label.shape[0]\n",
    "    py = []\n",
    "    norm_arg = []\n",
    "    for i in range(total_c):\n",
    "        idx = np.where(train_label == i+1)\n",
    "        py.append(len(idx[0]) / n)\n",
    "        temp = train_data[idx]\n",
    "        norm_arg.append((np.mean(temp), np.std(temp)))\n",
    "    return (py, norm_arg)"
   ]
  },
  {
   "cell_type": "code",
   "execution_count": 76,
   "metadata": {},
   "outputs": [],
   "source": [
    "def predict(test_data, py, norm_arg):\n",
    "    m, n = test_data.shape\n",
    "    pred_y = []\n",
    "    for d in test_data:\n",
    "        temp_y = []\n",
    "        for i in range(len(py)):\n",
    "            mu, sigma = norm_arg[i]\n",
    "            y = np.log(py[i]) + n * np.log(1 / (np.sqrt(2 * np.pi * sigma ** 2) )) - np.sum((d-mu)**2 / (2 * sigma ** 2))\n",
    "            temp_y.append(y)\n",
    "        pred_y.append([np.argmax(temp_y)+1])\n",
    "    return np.array(pred_y)"
   ]
  },
  {
   "cell_type": "code",
   "execution_count": 77,
   "metadata": {},
   "outputs": [],
   "source": [
    "py, norm_arg = naive_bayes(train_data, train_label)"
   ]
  },
  {
   "cell_type": "code",
   "execution_count": 104,
   "metadata": {},
   "outputs": [
    {
     "name": "stdout",
     "output_type": "stream",
     "text": [
      "0.8666666666666667\n"
     ]
    }
   ],
   "source": [
    "pre_label = predict(test_data, py, norm_arg)\n",
    "print(error(pre_label, test_label))\n",
    "# print(pre_label)"
   ]
  },
  {
   "cell_type": "code",
   "execution_count": 101,
   "metadata": {},
   "outputs": [],
   "source": [
    "def plot_data(data, label):\n",
    "    fig = plt.figure()\n",
    "    ax = fig.add_subplot(111)\n",
    "    for i in label:\n",
    "        idx = np.argwhere(label == i)\n",
    "#         print(idx)\n",
    "#         print('---------------')\n",
    "        temp_d = data[idx[:, 0], :]\n",
    "        ax.scatter(temp_d[:, 0], temp_d[:, 1], marker='o', cmap=plt.cm.jet(i))\n",
    "    plt.show()"
   ]
  },
  {
   "cell_type": "code",
   "execution_count": 102,
   "metadata": {},
   "outputs": [
    {
     "data": {
      "image/png": "[encoded data removed]",
      "text/plain": [
       "<Figure size 432x288 with 1 Axes>"
      ]
     },
     "metadata": {},
     "output_type": "display_data"
    }
   ],
   "source": [
    "plot_data(test_data, test_label)"
   ]
  },
  {
   "cell_type": "code",
   "execution_count": 103,
   "metadata": {},
   "outputs": [
    {
     "data": {
      "image/png": "[encoded data removed]",
      "text/plain": [
       "<Figure size 432x288 with 1 Axes>"
      ]
     },
     "metadata": {},
     "output_type": "display_data"
    }
   ],
   "source": [
    "plot_data(test_data, pre_label)"
   ]
  },
  {
   "cell_type": "code",
   "execution_count": null,
   "metadata": {},
   "outputs": [],
   "source": []
  }
 ],
 "metadata": {
  "kernelspec": {
   "display_name": "Python 3",
   "language": "python",
   "name": "python3"
  },
  "language_info": {
   "codemirror_mode": {
    "name": "ipython",
    "version": 3
   },
   "file_extension": ".py",
   "mimetype": "text/x-python",
   "name": "python",
   "nbconvert_exporter": "python",
   "pygments_lexer": "ipython3",
   "version": "3.6.5"
  }
 },
 "nbformat": 4,
 "nbformat_minor": 2
}
