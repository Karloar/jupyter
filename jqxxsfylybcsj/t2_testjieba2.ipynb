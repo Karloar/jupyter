{
 "cells": [
  {
   "cell_type": "code",
   "execution_count": 7,
   "metadata": {},
   "outputs": [],
   "source": [
    "import os\n",
    "import jieba\n",
    "from sklearn.datasets.base import Bunch"
   ]
  },
  {
   "cell_type": "code",
   "execution_count": 2,
   "metadata": {},
   "outputs": [],
   "source": [
    "def savefile(savepath, content):\n",
    "    with open(savepath, 'w') as f:\n",
    "        f.write(content)"
   ]
  },
  {
   "cell_type": "code",
   "execution_count": 3,
   "metadata": {},
   "outputs": [],
   "source": [
    "def readfile(path):\n",
    "    with open(path, 'r', encoding='gbk', errors='ignore') as f:\n",
    "        content = f.read()\n",
    "        return content"
   ]
  },
  {
   "cell_type": "code",
   "execution_count": 12,
   "metadata": {},
   "outputs": [],
   "source": [
    "corpus_path = '/Users/karloar/Documents/program/dataset/text_clustering_small/文本分类语料库/'\n",
    "seg_path = '/Users/karloar/Documents/program/dataset/seprate/text_clustering_small/文本分类语料库/'\n",
    "wordbag_path = '/Users/karloar/Documents/program/dataset/seprate/text_clustering_small/train_set.dat'"
   ]
  },
  {
   "cell_type": "code",
   "execution_count": 13,
   "metadata": {},
   "outputs": [],
   "source": [
    "catelist = os.listdir(corpus_path)\n",
    "bunch.target_name.extend(catelist)"
   ]
  },
  {
   "cell_type": "code",
   "execution_count": 14,
   "metadata": {},
   "outputs": [
    {
     "name": "stdout",
     "output_type": "stream",
     "text": [
      "中文语料分词结束！！！\n"
     ]
    }
   ],
   "source": [
    "for mydir in catelist:\n",
    "    class_path = corpus_path + mydir + \"/\"\n",
    "    seg_dir = seg_path + mydir + \"/\"\n",
    "    if not os.path.exists(seg_dir):\n",
    "        os.makedirs(seg_dir)\n",
    "    file_list = os.listdir(class_path)\n",
    "    for file_path in file_list:\n",
    "        file_absolute_path = class_path + file_path\n",
    "#         print(file_absolute_path)\n",
    "        content = readfile(file_absolute_path).strip()\n",
    "        content = content.replace('\\r\\n', '').strip()\n",
    "        content_seq = jieba.cut(content)\n",
    "        savefile(seg_dir + file_path, \" | \".join(content_seq))\n",
    "print('中文语料分词结束！！！')"
   ]
  },
  {
   "cell_type": "code",
   "execution_count": null,
   "metadata": {},
   "outputs": [],
   "source": []
  }
 ],
 "metadata": {
  "kernelspec": {
   "display_name": "Python 3",
   "language": "python",
   "name": "python3"
  },
  "language_info": {
   "codemirror_mode": {
    "name": "ipython",
    "version": 3
   },
   "file_extension": ".py",
   "mimetype": "text/x-python",
   "name": "python",
   "nbconvert_exporter": "python",
   "pygments_lexer": "ipython3",
   "version": "3.6.5"
  }
 },
 "nbformat": 4,
 "nbformat_minor": 2
}
